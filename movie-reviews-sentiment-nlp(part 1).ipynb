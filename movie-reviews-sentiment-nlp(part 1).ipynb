{
 "cells": [
  {
   "cell_type": "code",
   "execution_count": 84,
   "metadata": {
    "_cell_guid": "b1076dfc-b9ad-4769-8c92-a6c4dae69d19",
    "_uuid": "8f2839f25d086af736a60e9eeb907d3b93b6e0e5",
    "execution": {
     "iopub.execute_input": "2023-04-30T08:56:14.468031Z",
     "iopub.status.busy": "2023-04-30T08:56:14.467284Z",
     "iopub.status.idle": "2023-04-30T08:56:14.509377Z",
     "shell.execute_reply": "2023-04-30T08:56:14.508116Z",
     "shell.execute_reply.started": "2023-04-30T08:56:14.467989Z"
    }
   },
   "outputs": [],
   "source": [
    "#libraries\n",
    "import numpy as np # linear algebra\n",
    "import pandas as pd # data processing, CSV file I/O (e.g. pd.read_csv)\n"
   ]
  },
  {
   "cell_type": "code",
   "execution_count": 85,
   "metadata": {
    "execution": {
     "iopub.execute_input": "2023-04-30T08:56:14.511878Z",
     "iopub.status.busy": "2023-04-30T08:56:14.511555Z",
     "iopub.status.idle": "2023-04-30T08:56:16.460411Z",
     "shell.execute_reply": "2023-04-30T08:56:16.459018Z",
     "shell.execute_reply.started": "2023-04-30T08:56:14.511845Z"
    }
   },
   "outputs": [],
   "source": [
    "#libraries\n",
    "import re\n",
    "import nltk\n",
    "from nltk.corpus import stopwords\n",
    "from nltk.stem import PorterStemmer\n",
    "from sklearn.feature_extraction.text import CountVectorizer\n",
    "\n",
    "import seaborn as sns\n",
    "import matplotlib.pyplot as plt\n",
    "\n",
    "from tqdm.auto import tqdm\n",
    "import time"
   ]
  },
  {
   "cell_type": "code",
   "execution_count": 86,
   "metadata": {
    "execution": {
     "iopub.execute_input": "2023-04-30T08:56:16.463637Z",
     "iopub.status.busy": "2023-04-30T08:56:16.462815Z",
     "iopub.status.idle": "2023-04-30T08:56:19.652769Z",
     "shell.execute_reply": "2023-04-30T08:56:19.651486Z",
     "shell.execute_reply.started": "2023-04-30T08:56:16.463580Z"
    }
   },
   "outputs": [],
   "source": [
    "# Load the dataset\n",
    "data = pd.read_csv('C:\\\\Users\\\\Priyanka Sawant\\\\Desktop\\\\Python\\\\Exam NLP\\\\IMDB Dataset.csv')"
   ]
  },
  {
   "cell_type": "code",
   "execution_count": 87,
   "metadata": {
    "execution": {
     "iopub.execute_input": "2023-04-30T08:58:29.948396Z",
     "iopub.status.busy": "2023-04-30T08:58:29.947950Z",
     "iopub.status.idle": "2023-04-30T08:58:29.956610Z",
     "shell.execute_reply": "2023-04-30T08:58:29.955420Z",
     "shell.execute_reply.started": "2023-04-30T08:58:29.948354Z"
    }
   },
   "outputs": [
    {
     "data": {
      "text/plain": [
       "(50000, 2)"
      ]
     },
     "execution_count": 87,
     "metadata": {},
     "output_type": "execute_result"
    }
   ],
   "source": [
    "data.shape"
   ]
  },
  {
   "cell_type": "code",
   "execution_count": 88,
   "metadata": {
    "execution": {
     "iopub.execute_input": "2023-04-30T08:58:36.162137Z",
     "iopub.status.busy": "2023-04-30T08:58:36.161430Z",
     "iopub.status.idle": "2023-04-30T08:58:36.172610Z",
     "shell.execute_reply": "2023-04-30T08:58:36.171195Z",
     "shell.execute_reply.started": "2023-04-30T08:58:36.162095Z"
    }
   },
   "outputs": [
    {
     "data": {
      "text/plain": [
       "\"Basically there's a family where a little boy (Jake) thinks there's a zombie in his closet & his parents are fighting all the time.<br /><br />This movie is slower than a soap opera... and suddenly, Jake decides to become Rambo and kill the zombie.<br /><br />OK, first of all when you're going to make a film you must Decide if its a thriller or a drama! As a drama the movie is watchable. Parents are divorcing & arguing like in real life. And then we have Jake with his closet which totally ruins all the film! I expected to see a BOOGEYMAN similar movie, and instead i watched a drama with some meaningless thriller spots.<br /><br />3 out of 10 just for the well playing parents & descent dialogs. As for the shots with Jake: just ignore them.\""
      ]
     },
     "execution_count": 88,
     "metadata": {},
     "output_type": "execute_result"
    }
   ],
   "source": [
    "data['review'][3]"
   ]
  },
  {
   "cell_type": "code",
   "execution_count": 89,
   "metadata": {
    "execution": {
     "iopub.execute_input": "2023-04-30T08:58:37.147821Z",
     "iopub.status.busy": "2023-04-30T08:58:37.147413Z",
     "iopub.status.idle": "2023-04-30T08:58:37.155092Z",
     "shell.execute_reply": "2023-04-30T08:58:37.154042Z",
     "shell.execute_reply.started": "2023-04-30T08:58:37.147783Z"
    }
   },
   "outputs": [
    {
     "data": {
      "text/plain": [
       "\"I watched this film not really expecting much, I got it in a pack of 5 films, all of which were pretty terrible in their own way for under a fiver so what could I expect? and you know what I was right, they were all terrible, this movie has a few (and a few is stretching it) interesting points, the occasional camcorder view is a nice touch, the drummer is very like a drummer, i.e damned annoying and, well thats about it actually, the problem is that its just so boring, in what I can only assume was an attempt to build tension, a whole lot of nothing happens and when it does its utterly tedious (I had my thumb on the fast forward button, ready to press for most of the movie, but gave it a go) and seriously is the lead singer of the band that great looking, coz they don't half mention how beautiful he is a hell of a lot, I thought he looked a bit like a meercat, all this and I haven't even mentioned the killer, I'm not even gonna go into it, its just not worth explaining. Anyway as far as I'm concerned Star and London are just about the only reason to watch this and with the exception of London (who was actually quite funny) it wasn't because of their acting talent, I've certainly seen a lot worse, but I've also seen a lot better. Best avoid unless your bored of watching paint dry.\""
      ]
     },
     "execution_count": 89,
     "metadata": {},
     "output_type": "execute_result"
    }
   ],
   "source": [
    "data['review'][34]"
   ]
  },
  {
   "cell_type": "code",
   "execution_count": 90,
   "metadata": {
    "execution": {
     "iopub.execute_input": "2023-04-30T08:58:42.796246Z",
     "iopub.status.busy": "2023-04-30T08:58:42.795813Z",
     "iopub.status.idle": "2023-04-30T08:58:42.805661Z",
     "shell.execute_reply": "2023-04-30T08:58:42.803866Z",
     "shell.execute_reply.started": "2023-04-30T08:58:42.796206Z"
    }
   },
   "outputs": [
    {
     "data": {
      "text/plain": [
       "Index(['review', 'sentiment'], dtype='object')"
      ]
     },
     "execution_count": 90,
     "metadata": {},
     "output_type": "execute_result"
    }
   ],
   "source": [
    "data.columns"
   ]
  },
  {
   "cell_type": "code",
   "execution_count": 91,
   "metadata": {
    "execution": {
     "iopub.execute_input": "2023-04-30T09:00:01.972578Z",
     "iopub.status.busy": "2023-04-30T09:00:01.972196Z",
     "iopub.status.idle": "2023-04-30T09:00:01.984135Z",
     "shell.execute_reply": "2023-04-30T09:00:01.982881Z",
     "shell.execute_reply.started": "2023-04-30T09:00:01.972546Z"
    }
   },
   "outputs": [
    {
     "data": {
      "text/plain": [
       "positive    25000\n",
       "negative    25000\n",
       "Name: sentiment, dtype: int64"
      ]
     },
     "execution_count": 91,
     "metadata": {},
     "output_type": "execute_result"
    }
   ],
   "source": [
    "#count of positive &  negative reviews sentiment\n",
    "data['sentiment'].value_counts()"
   ]
  },
  {
   "cell_type": "code",
   "execution_count": 92,
   "metadata": {
    "execution": {
     "iopub.execute_input": "2023-04-30T09:00:17.572781Z",
     "iopub.status.busy": "2023-04-30T09:00:17.572271Z",
     "iopub.status.idle": "2023-04-30T09:00:17.587813Z",
     "shell.execute_reply": "2023-04-30T09:00:17.586576Z",
     "shell.execute_reply.started": "2023-04-30T09:00:17.572731Z"
    }
   },
   "outputs": [
    {
     "data": {
      "text/plain": [
       "review       0\n",
       "sentiment    0\n",
       "dtype: int64"
      ]
     },
     "execution_count": 92,
     "metadata": {},
     "output_type": "execute_result"
    }
   ],
   "source": [
    "#check null values\n",
    "data.isnull().sum()"
   ]
  },
  {
   "cell_type": "code",
   "execution_count": 93,
   "metadata": {
    "execution": {
     "iopub.execute_input": "2023-04-30T09:00:35.171376Z",
     "iopub.status.busy": "2023-04-30T09:00:35.170982Z",
     "iopub.status.idle": "2023-04-30T09:00:35.223822Z",
     "shell.execute_reply": "2023-04-30T09:00:35.222685Z",
     "shell.execute_reply.started": "2023-04-30T09:00:35.171343Z"
    }
   },
   "outputs": [
    {
     "data": {
      "text/plain": [
       "418"
      ]
     },
     "execution_count": 93,
     "metadata": {},
     "output_type": "execute_result"
    }
   ],
   "source": [
    "#duplicate text\n",
    "data.duplicated().sum()"
   ]
  },
  {
   "cell_type": "code",
   "execution_count": 94,
   "metadata": {
    "execution": {
     "iopub.execute_input": "2023-04-30T09:02:47.891965Z",
     "iopub.status.busy": "2023-04-30T09:02:47.891485Z",
     "iopub.status.idle": "2023-04-30T09:02:47.936617Z",
     "shell.execute_reply": "2023-04-30T09:02:47.935557Z",
     "shell.execute_reply.started": "2023-04-30T09:02:47.891899Z"
    }
   },
   "outputs": [],
   "source": [
    "#drop suplicate text\n",
    "data.drop_duplicates(inplace=True)"
   ]
  },
  {
   "cell_type": "code",
   "execution_count": 95,
   "metadata": {
    "execution": {
     "iopub.execute_input": "2023-04-30T09:03:16.261559Z",
     "iopub.status.busy": "2023-04-30T09:03:16.261161Z",
     "iopub.status.idle": "2023-04-30T09:03:16.305373Z",
     "shell.execute_reply": "2023-04-30T09:03:16.304180Z",
     "shell.execute_reply.started": "2023-04-30T09:03:16.261525Z"
    }
   },
   "outputs": [
    {
     "data": {
      "text/plain": [
       "0"
      ]
     },
     "execution_count": 95,
     "metadata": {},
     "output_type": "execute_result"
    }
   ],
   "source": [
    "data.duplicated().sum()"
   ]
  },
  {
   "cell_type": "markdown",
   "metadata": {},
   "source": [
    "# Text Preprocessing"
   ]
  },
  {
   "cell_type": "markdown",
   "metadata": {},
   "source": [
    "#### Q.1 Preprocess the text (i.e., the steps required prior to converting the sentence into a vector) using any library of your choice"
   ]
  },
  {
   "cell_type": "markdown",
   "metadata": {},
   "source": [
    "# Lowercasing\n",
    "convert NLP -> nlp"
   ]
  },
  {
   "cell_type": "code",
   "execution_count": 96,
   "metadata": {
    "execution": {
     "iopub.execute_input": "2023-04-30T09:04:35.772039Z",
     "iopub.status.busy": "2023-04-30T09:04:35.771623Z",
     "iopub.status.idle": "2023-04-30T09:04:35.809595Z",
     "shell.execute_reply": "2023-04-30T09:04:35.808496Z",
     "shell.execute_reply.started": "2023-04-30T09:04:35.771996Z"
    }
   },
   "outputs": [],
   "source": [
    "data['review'] = data['review'].str.lower()"
   ]
  },
  {
   "cell_type": "code",
   "execution_count": 97,
   "metadata": {
    "execution": {
     "iopub.execute_input": "2023-04-30T09:04:36.193234Z",
     "iopub.status.busy": "2023-04-30T09:04:36.192087Z",
     "iopub.status.idle": "2023-04-30T09:04:36.205681Z",
     "shell.execute_reply": "2023-04-30T09:04:36.204461Z",
     "shell.execute_reply.started": "2023-04-30T09:04:36.193176Z"
    }
   },
   "outputs": [
    {
     "data": {
      "text/html": [
       "<div>\n",
       "<style scoped>\n",
       "    .dataframe tbody tr th:only-of-type {\n",
       "        vertical-align: middle;\n",
       "    }\n",
       "\n",
       "    .dataframe tbody tr th {\n",
       "        vertical-align: top;\n",
       "    }\n",
       "\n",
       "    .dataframe thead th {\n",
       "        text-align: right;\n",
       "    }\n",
       "</style>\n",
       "<table border=\"1\" class=\"dataframe\">\n",
       "  <thead>\n",
       "    <tr style=\"text-align: right;\">\n",
       "      <th></th>\n",
       "      <th>review</th>\n",
       "      <th>sentiment</th>\n",
       "    </tr>\n",
       "  </thead>\n",
       "  <tbody>\n",
       "    <tr>\n",
       "      <th>0</th>\n",
       "      <td>one of the other reviewers has mentioned that ...</td>\n",
       "      <td>positive</td>\n",
       "    </tr>\n",
       "    <tr>\n",
       "      <th>1</th>\n",
       "      <td>a wonderful little production. &lt;br /&gt;&lt;br /&gt;the...</td>\n",
       "      <td>positive</td>\n",
       "    </tr>\n",
       "    <tr>\n",
       "      <th>2</th>\n",
       "      <td>i thought this was a wonderful way to spend ti...</td>\n",
       "      <td>positive</td>\n",
       "    </tr>\n",
       "  </tbody>\n",
       "</table>\n",
       "</div>"
      ],
      "text/plain": [
       "                                              review sentiment\n",
       "0  one of the other reviewers has mentioned that ...  positive\n",
       "1  a wonderful little production. <br /><br />the...  positive\n",
       "2  i thought this was a wonderful way to spend ti...  positive"
      ]
     },
     "execution_count": 97,
     "metadata": {},
     "output_type": "execute_result"
    }
   ],
   "source": [
    "data.head(3)"
   ]
  },
  {
   "cell_type": "markdown",
   "metadata": {},
   "source": [
    "# Remove HTML Tags\n",
    "\n",
    "Remove all html tags(such as <br,<li, etc) from text"
   ]
  },
  {
   "cell_type": "code",
   "execution_count": 98,
   "metadata": {
    "execution": {
     "iopub.execute_input": "2023-04-30T09:04:47.872156Z",
     "iopub.status.busy": "2023-04-30T09:04:47.871284Z",
     "iopub.status.idle": "2023-04-30T09:04:47.877970Z",
     "shell.execute_reply": "2023-04-30T09:04:47.876791Z",
     "shell.execute_reply.started": "2023-04-30T09:04:47.872110Z"
    }
   },
   "outputs": [],
   "source": [
    "import re\n",
    "def remove_html_tags(text):\n",
    "    pattern = re.compile('<.*?>')\n",
    "    return pattern.sub(f'',text)"
   ]
  },
  {
   "cell_type": "code",
   "execution_count": 99,
   "metadata": {
    "execution": {
     "iopub.execute_input": "2023-04-30T09:04:55.631866Z",
     "iopub.status.busy": "2023-04-30T09:04:55.631443Z",
     "iopub.status.idle": "2023-04-30T09:04:55.676726Z",
     "shell.execute_reply": "2023-04-30T09:04:55.675503Z",
     "shell.execute_reply.started": "2023-04-30T09:04:55.631830Z"
    }
   },
   "outputs": [],
   "source": [
    "data['review']=data['review'].apply(remove_html_tags)"
   ]
  },
  {
   "cell_type": "code",
   "execution_count": 100,
   "metadata": {
    "execution": {
     "iopub.execute_input": "2023-04-30T09:04:56.842487Z",
     "iopub.status.busy": "2023-04-30T09:04:56.842120Z",
     "iopub.status.idle": "2023-04-30T09:04:56.851544Z",
     "shell.execute_reply": "2023-04-30T09:04:56.850369Z",
     "shell.execute_reply.started": "2023-04-30T09:04:56.842455Z"
    }
   },
   "outputs": [
    {
     "data": {
      "text/plain": [
       "0        one of the other reviewers has mentioned that ...\n",
       "1        a wonderful little production. the filming tec...\n",
       "2        i thought this was a wonderful way to spend ti...\n",
       "3        basically there's a family where a little boy ...\n",
       "4        petter mattei's \"love in the time of money\" is...\n",
       "                               ...                        \n",
       "49995    i thought this movie did a down right good job...\n",
       "49996    bad plot, bad dialogue, bad acting, idiotic di...\n",
       "49997    i am a catholic taught in parochial elementary...\n",
       "49998    i'm going to have to disagree with the previou...\n",
       "49999    no one expects the star trek movies to be high...\n",
       "Name: review, Length: 49582, dtype: object"
      ]
     },
     "execution_count": 100,
     "metadata": {},
     "output_type": "execute_result"
    }
   ],
   "source": [
    "data['review']"
   ]
  },
  {
   "cell_type": "markdown",
   "metadata": {},
   "source": [
    "# Remove Punctuation\n",
    "\n",
    "Remove \"!\"#$%&\\'()*+,-./:;<=>?@[\\\\]^_`{|}~\" from text"
   ]
  },
  {
   "cell_type": "code",
   "execution_count": 101,
   "metadata": {
    "execution": {
     "iopub.execute_input": "2023-04-28T10:19:11.918826Z",
     "iopub.status.busy": "2023-04-28T10:19:11.918311Z",
     "iopub.status.idle": "2023-04-28T10:19:11.926158Z",
     "shell.execute_reply": "2023-04-28T10:19:11.925178Z",
     "shell.execute_reply.started": "2023-04-28T10:19:11.918785Z"
    }
   },
   "outputs": [
    {
     "data": {
      "text/plain": [
       "'!\"#$%&\\'()*+,-./:;<=>?@[\\\\]^_`{|}~'"
      ]
     },
     "execution_count": 101,
     "metadata": {},
     "output_type": "execute_result"
    }
   ],
   "source": [
    "import string, time\n",
    "string.punctuation"
   ]
  },
  {
   "cell_type": "code",
   "execution_count": 102,
   "metadata": {
    "execution": {
     "iopub.execute_input": "2023-04-28T10:20:16.348411Z",
     "iopub.status.busy": "2023-04-28T10:20:16.346916Z",
     "iopub.status.idle": "2023-04-28T10:20:16.354680Z",
     "shell.execute_reply": "2023-04-28T10:20:16.353657Z",
     "shell.execute_reply.started": "2023-04-28T10:20:16.348346Z"
    }
   },
   "outputs": [],
   "source": [
    "def remove_punc(text):\n",
    "    for char in excude:\n",
    "        text = text.replace(char,\"\")\n",
    "    return text"
   ]
  },
  {
   "cell_type": "markdown",
   "metadata": {},
   "source": [
    "# Remove Stop words"
   ]
  },
  {
   "cell_type": "markdown",
   "metadata": {},
   "source": [
    "#Stopwords such as \"I,and,or,etc\" remove from text"
   ]
  },
  {
   "cell_type": "code",
   "execution_count": 103,
   "metadata": {
    "execution": {
     "iopub.execute_input": "2023-04-30T09:08:41.359283Z",
     "iopub.status.busy": "2023-04-30T09:08:41.358845Z",
     "iopub.status.idle": "2023-04-30T09:08:41.365281Z",
     "shell.execute_reply": "2023-04-30T09:08:41.363940Z",
     "shell.execute_reply.started": "2023-04-30T09:08:41.359245Z"
    }
   },
   "outputs": [],
   "source": [
    "import re\n",
    "import nltk"
   ]
  },
  {
   "cell_type": "code",
   "execution_count": 104,
   "metadata": {
    "execution": {
     "iopub.execute_input": "2023-04-30T09:08:41.696599Z",
     "iopub.status.busy": "2023-04-30T09:08:41.696212Z",
     "iopub.status.idle": "2023-04-30T09:08:41.845653Z",
     "shell.execute_reply": "2023-04-30T09:08:41.844668Z",
     "shell.execute_reply.started": "2023-04-30T09:08:41.696565Z"
    }
   },
   "outputs": [
    {
     "name": "stderr",
     "output_type": "stream",
     "text": [
      "[nltk_data] Downloading package stopwords to C:\\Users\\Priyanka\n",
      "[nltk_data]     Sawant\\AppData\\Roaming\\nltk_data...\n",
      "[nltk_data]   Package stopwords is already up-to-date!\n"
     ]
    },
    {
     "data": {
      "text/plain": [
       "True"
      ]
     },
     "execution_count": 104,
     "metadata": {},
     "output_type": "execute_result"
    }
   ],
   "source": [
    "nltk.download(\"stopwords\")"
   ]
  },
  {
   "cell_type": "code",
   "execution_count": 105,
   "metadata": {
    "execution": {
     "iopub.execute_input": "2023-04-30T09:08:42.073061Z",
     "iopub.status.busy": "2023-04-30T09:08:42.071843Z",
     "iopub.status.idle": "2023-04-30T09:08:42.077838Z",
     "shell.execute_reply": "2023-04-30T09:08:42.076594Z",
     "shell.execute_reply.started": "2023-04-30T09:08:42.073016Z"
    }
   },
   "outputs": [],
   "source": [
    "from nltk.corpus import stopwords"
   ]
  },
  {
   "cell_type": "code",
   "execution_count": 106,
   "metadata": {
    "execution": {
     "iopub.execute_input": "2023-04-30T09:08:42.491562Z",
     "iopub.status.busy": "2023-04-30T09:08:42.491138Z",
     "iopub.status.idle": "2023-04-30T09:08:42.496300Z",
     "shell.execute_reply": "2023-04-30T09:08:42.495424Z",
     "shell.execute_reply.started": "2023-04-30T09:08:42.491521Z"
    }
   },
   "outputs": [],
   "source": [
    "from nltk.stem.porter import PorterStemmer"
   ]
  },
  {
   "cell_type": "code",
   "execution_count": 107,
   "metadata": {
    "execution": {
     "iopub.execute_input": "2023-04-30T09:08:43.312334Z",
     "iopub.status.busy": "2023-04-30T09:08:43.311400Z",
     "iopub.status.idle": "2023-04-30T09:08:43.316751Z",
     "shell.execute_reply": "2023-04-30T09:08:43.315889Z",
     "shell.execute_reply.started": "2023-04-30T09:08:43.312295Z"
    }
   },
   "outputs": [],
   "source": [
    "ps = PorterStemmer()"
   ]
  },
  {
   "cell_type": "code",
   "execution_count": 108,
   "metadata": {
    "collapsed": true,
    "execution": {
     "iopub.execute_input": "2023-04-30T09:08:44.186968Z",
     "iopub.status.busy": "2023-04-30T09:08:44.186512Z",
     "iopub.status.idle": "2023-04-30T09:08:44.196747Z",
     "shell.execute_reply": "2023-04-30T09:08:44.195980Z",
     "shell.execute_reply.started": "2023-04-30T09:08:44.186901Z"
    }
   },
   "outputs": [
    {
     "data": {
      "text/plain": [
       "['i',\n",
       " 'me',\n",
       " 'my',\n",
       " 'myself',\n",
       " 'we',\n",
       " 'our',\n",
       " 'ours',\n",
       " 'ourselves',\n",
       " 'you',\n",
       " \"you're\",\n",
       " \"you've\",\n",
       " \"you'll\",\n",
       " \"you'd\",\n",
       " 'your',\n",
       " 'yours',\n",
       " 'yourself',\n",
       " 'yourselves',\n",
       " 'he',\n",
       " 'him',\n",
       " 'his',\n",
       " 'himself',\n",
       " 'she',\n",
       " \"she's\",\n",
       " 'her',\n",
       " 'hers',\n",
       " 'herself',\n",
       " 'it',\n",
       " \"it's\",\n",
       " 'its',\n",
       " 'itself',\n",
       " 'they',\n",
       " 'them',\n",
       " 'their',\n",
       " 'theirs',\n",
       " 'themselves',\n",
       " 'what',\n",
       " 'which',\n",
       " 'who',\n",
       " 'whom',\n",
       " 'this',\n",
       " 'that',\n",
       " \"that'll\",\n",
       " 'these',\n",
       " 'those',\n",
       " 'am',\n",
       " 'is',\n",
       " 'are',\n",
       " 'was',\n",
       " 'were',\n",
       " 'be',\n",
       " 'been',\n",
       " 'being',\n",
       " 'have',\n",
       " 'has',\n",
       " 'had',\n",
       " 'having',\n",
       " 'do',\n",
       " 'does',\n",
       " 'did',\n",
       " 'doing',\n",
       " 'a',\n",
       " 'an',\n",
       " 'the',\n",
       " 'and',\n",
       " 'but',\n",
       " 'if',\n",
       " 'or',\n",
       " 'because',\n",
       " 'as',\n",
       " 'until',\n",
       " 'while',\n",
       " 'of',\n",
       " 'at',\n",
       " 'by',\n",
       " 'for',\n",
       " 'with',\n",
       " 'about',\n",
       " 'against',\n",
       " 'between',\n",
       " 'into',\n",
       " 'through',\n",
       " 'during',\n",
       " 'before',\n",
       " 'after',\n",
       " 'above',\n",
       " 'below',\n",
       " 'to',\n",
       " 'from',\n",
       " 'up',\n",
       " 'down',\n",
       " 'in',\n",
       " 'out',\n",
       " 'on',\n",
       " 'off',\n",
       " 'over',\n",
       " 'under',\n",
       " 'again',\n",
       " 'further',\n",
       " 'then',\n",
       " 'once',\n",
       " 'here',\n",
       " 'there',\n",
       " 'when',\n",
       " 'where',\n",
       " 'why',\n",
       " 'how',\n",
       " 'all',\n",
       " 'any',\n",
       " 'both',\n",
       " 'each',\n",
       " 'few',\n",
       " 'more',\n",
       " 'most',\n",
       " 'other',\n",
       " 'some',\n",
       " 'such',\n",
       " 'no',\n",
       " 'nor',\n",
       " 'not',\n",
       " 'only',\n",
       " 'own',\n",
       " 'same',\n",
       " 'so',\n",
       " 'than',\n",
       " 'too',\n",
       " 'very',\n",
       " 's',\n",
       " 't',\n",
       " 'can',\n",
       " 'will',\n",
       " 'just',\n",
       " 'don',\n",
       " \"don't\",\n",
       " 'should',\n",
       " \"should've\",\n",
       " 'now',\n",
       " 'd',\n",
       " 'll',\n",
       " 'm',\n",
       " 'o',\n",
       " 're',\n",
       " 've',\n",
       " 'y',\n",
       " 'ain',\n",
       " 'aren',\n",
       " \"aren't\",\n",
       " 'couldn',\n",
       " \"couldn't\",\n",
       " 'didn',\n",
       " \"didn't\",\n",
       " 'doesn',\n",
       " \"doesn't\",\n",
       " 'hadn',\n",
       " \"hadn't\",\n",
       " 'hasn',\n",
       " \"hasn't\",\n",
       " 'haven',\n",
       " \"haven't\",\n",
       " 'isn',\n",
       " \"isn't\",\n",
       " 'ma',\n",
       " 'mightn',\n",
       " \"mightn't\",\n",
       " 'mustn',\n",
       " \"mustn't\",\n",
       " 'needn',\n",
       " \"needn't\",\n",
       " 'shan',\n",
       " \"shan't\",\n",
       " 'shouldn',\n",
       " \"shouldn't\",\n",
       " 'wasn',\n",
       " \"wasn't\",\n",
       " 'weren',\n",
       " \"weren't\",\n",
       " 'won',\n",
       " \"won't\",\n",
       " 'wouldn',\n",
       " \"wouldn't\"]"
      ]
     },
     "execution_count": 108,
     "metadata": {},
     "output_type": "execute_result"
    }
   ],
   "source": [
    "stopwords.words('english')"
   ]
  },
  {
   "cell_type": "code",
   "execution_count": 109,
   "metadata": {
    "execution": {
     "iopub.execute_input": "2023-04-30T09:12:05.286310Z",
     "iopub.status.busy": "2023-04-30T09:12:05.285903Z",
     "iopub.status.idle": "2023-04-30T09:12:05.300835Z",
     "shell.execute_reply": "2023-04-30T09:12:05.299540Z",
     "shell.execute_reply.started": "2023-04-30T09:12:05.286277Z"
    }
   },
   "outputs": [
    {
     "data": {
      "text/html": [
       "<div>\n",
       "<style scoped>\n",
       "    .dataframe tbody tr th:only-of-type {\n",
       "        vertical-align: middle;\n",
       "    }\n",
       "\n",
       "    .dataframe tbody tr th {\n",
       "        vertical-align: top;\n",
       "    }\n",
       "\n",
       "    .dataframe thead th {\n",
       "        text-align: right;\n",
       "    }\n",
       "</style>\n",
       "<table border=\"1\" class=\"dataframe\">\n",
       "  <thead>\n",
       "    <tr style=\"text-align: right;\">\n",
       "      <th></th>\n",
       "      <th>review</th>\n",
       "      <th>sentiment</th>\n",
       "    </tr>\n",
       "  </thead>\n",
       "  <tbody>\n",
       "    <tr>\n",
       "      <th>0</th>\n",
       "      <td>one of the other reviewers has mentioned that ...</td>\n",
       "      <td>positive</td>\n",
       "    </tr>\n",
       "    <tr>\n",
       "      <th>1</th>\n",
       "      <td>a wonderful little production. the filming tec...</td>\n",
       "      <td>positive</td>\n",
       "    </tr>\n",
       "    <tr>\n",
       "      <th>2</th>\n",
       "      <td>i thought this was a wonderful way to spend ti...</td>\n",
       "      <td>positive</td>\n",
       "    </tr>\n",
       "  </tbody>\n",
       "</table>\n",
       "</div>"
      ],
      "text/plain": [
       "                                              review sentiment\n",
       "0  one of the other reviewers has mentioned that ...  positive\n",
       "1  a wonderful little production. the filming tec...  positive\n",
       "2  i thought this was a wonderful way to spend ti...  positive"
      ]
     },
     "execution_count": 109,
     "metadata": {},
     "output_type": "execute_result"
    }
   ],
   "source": [
    "data.head(3)"
   ]
  },
  {
   "cell_type": "markdown",
   "metadata": {},
   "source": [
    "# Clean the data"
   ]
  },
  {
   "cell_type": "code",
   "execution_count": 110,
   "metadata": {
    "execution": {
     "iopub.execute_input": "2023-04-30T09:15:14.888753Z",
     "iopub.status.busy": "2023-04-30T09:15:14.887756Z",
     "iopub.status.idle": "2023-04-30T09:15:14.896042Z",
     "shell.execute_reply": "2023-04-30T09:15:14.894892Z",
     "shell.execute_reply.started": "2023-04-30T09:15:14.888709Z"
    }
   },
   "outputs": [],
   "source": [
    "# Clean the data\n",
    "def clean_text(text):\n",
    "    # Remove HTML tags\n",
    "    text = re.sub('<.*?>', '', text)\n",
    "    # Remove non-alphabetic characters and convert to lowercase\n",
    "    text = re.sub('[^a-zA-Z]', ' ', text).lower()\n",
    "    # Tokenize the text\n",
    "    words = nltk.word_tokenize(text)\n",
    "    # Remove stopwords\n",
    "    words = [w for w in words if w not in stopwords.words('english')]\n",
    "    # Stem the words\n",
    "    stemmer = PorterStemmer()\n",
    "    words = [stemmer.stem(w) for w in words]\n",
    "    # Join the words back into a string\n",
    "    text = ' '.join(words)\n",
    "    return text"
   ]
  },
  {
   "cell_type": "code",
   "execution_count": 111,
   "metadata": {
    "execution": {
     "iopub.execute_input": "2023-04-30T09:15:15.407126Z",
     "iopub.status.busy": "2023-04-30T09:15:15.406243Z",
     "iopub.status.idle": "2023-04-30T09:21:30.108509Z",
     "shell.execute_reply": "2023-04-30T09:21:30.107601Z",
     "shell.execute_reply.started": "2023-04-30T09:15:15.407075Z"
    }
   },
   "outputs": [
    {
     "name": "stderr",
     "output_type": "stream",
     "text": [
      "C:\\Users\\Priyanka Sawant\\anaconda3\\lib\\site-packages\\tqdm\\std.py:658: FutureWarning: The Panel class is removed from pandas. Accessing it from the top-level namespace will also be removed in the next version\n",
      "  from pandas import Panel\n"
     ]
    },
    {
     "data": {
      "application/vnd.jupyter.widget-view+json": {
       "model_id": "99c15e5f30744e98957ce762cbb2710a",
       "version_major": 2,
       "version_minor": 0
      },
      "text/plain": [
       "HBox(children=(FloatProgress(value=0.0, max=49582.0), HTML(value='')))"
      ]
     },
     "metadata": {},
     "output_type": "display_data"
    },
    {
     "name": "stdout",
     "output_type": "stream",
     "text": [
      "\n",
      "Wall time: 50min 11s\n"
     ]
    }
   ],
   "source": [
    "%%time\n",
    "\n",
    "tqdm.pandas()\n",
    "\n",
    "data['cleaned_text'] = data['review'].progress_apply(clean_text)"
   ]
  },
  {
   "cell_type": "code",
   "execution_count": 112,
   "metadata": {},
   "outputs": [
    {
     "data": {
      "text/html": [
       "<div>\n",
       "<style scoped>\n",
       "    .dataframe tbody tr th:only-of-type {\n",
       "        vertical-align: middle;\n",
       "    }\n",
       "\n",
       "    .dataframe tbody tr th {\n",
       "        vertical-align: top;\n",
       "    }\n",
       "\n",
       "    .dataframe thead th {\n",
       "        text-align: right;\n",
       "    }\n",
       "</style>\n",
       "<table border=\"1\" class=\"dataframe\">\n",
       "  <thead>\n",
       "    <tr style=\"text-align: right;\">\n",
       "      <th></th>\n",
       "      <th>review</th>\n",
       "      <th>sentiment</th>\n",
       "      <th>cleaned_text</th>\n",
       "    </tr>\n",
       "  </thead>\n",
       "  <tbody>\n",
       "    <tr>\n",
       "      <th>0</th>\n",
       "      <td>one of the other reviewers has mentioned that ...</td>\n",
       "      <td>positive</td>\n",
       "      <td>one review mention watch oz episod hook right ...</td>\n",
       "    </tr>\n",
       "    <tr>\n",
       "      <th>1</th>\n",
       "      <td>a wonderful little production. the filming tec...</td>\n",
       "      <td>positive</td>\n",
       "      <td>wonder littl product film techniqu unassum old...</td>\n",
       "    </tr>\n",
       "    <tr>\n",
       "      <th>2</th>\n",
       "      <td>i thought this was a wonderful way to spend ti...</td>\n",
       "      <td>positive</td>\n",
       "      <td>thought wonder way spend time hot summer weeke...</td>\n",
       "    </tr>\n",
       "    <tr>\n",
       "      <th>3</th>\n",
       "      <td>basically there's a family where a little boy ...</td>\n",
       "      <td>negative</td>\n",
       "      <td>basic famili littl boy jake think zombi closet...</td>\n",
       "    </tr>\n",
       "    <tr>\n",
       "      <th>4</th>\n",
       "      <td>petter mattei's \"love in the time of money\" is...</td>\n",
       "      <td>positive</td>\n",
       "      <td>petter mattei love time money visual stun film...</td>\n",
       "    </tr>\n",
       "  </tbody>\n",
       "</table>\n",
       "</div>"
      ],
      "text/plain": [
       "                                              review sentiment  \\\n",
       "0  one of the other reviewers has mentioned that ...  positive   \n",
       "1  a wonderful little production. the filming tec...  positive   \n",
       "2  i thought this was a wonderful way to spend ti...  positive   \n",
       "3  basically there's a family where a little boy ...  negative   \n",
       "4  petter mattei's \"love in the time of money\" is...  positive   \n",
       "\n",
       "                                        cleaned_text  \n",
       "0  one review mention watch oz episod hook right ...  \n",
       "1  wonder littl product film techniqu unassum old...  \n",
       "2  thought wonder way spend time hot summer weeke...  \n",
       "3  basic famili littl boy jake think zombi closet...  \n",
       "4  petter mattei love time money visual stun film...  "
      ]
     },
     "execution_count": 112,
     "metadata": {},
     "output_type": "execute_result"
    }
   ],
   "source": [
    "data.head()"
   ]
  },
  {
   "cell_type": "code",
   "execution_count": 113,
   "metadata": {},
   "outputs": [],
   "source": [
    "# Save the cleaned DataFrame to an Excel file\n",
    "data.to_excel(r'test_data_output.xlsx',index=False)"
   ]
  },
  {
   "cell_type": "markdown",
   "metadata": {},
   "source": [
    "#### Q.2.Given any sentence, perform vector semantics i.e., convert the given dataset into vectors using Bag of Words approach.\n",
    "#### Q.3. Train a simple classifier (using Scikit-learn e.g.: SVM) to perform  sentiment analysis on the generated dataset."
   ]
  },
  {
   "cell_type": "code",
   "execution_count": 114,
   "metadata": {
    "execution": {
     "iopub.execute_input": "2023-04-30T09:21:34.526593Z",
     "iopub.status.busy": "2023-04-30T09:21:34.526209Z",
     "iopub.status.idle": "2023-04-30T09:21:34.531455Z",
     "shell.execute_reply": "2023-04-30T09:21:34.530425Z",
     "shell.execute_reply.started": "2023-04-30T09:21:34.526559Z"
    }
   },
   "outputs": [],
   "source": [
    "from sklearn.feature_extraction.text import CountVectorizer"
   ]
  },
  {
   "cell_type": "code",
   "execution_count": 115,
   "metadata": {
    "execution": {
     "iopub.execute_input": "2023-04-30T09:21:35.409012Z",
     "iopub.status.busy": "2023-04-30T09:21:35.408364Z",
     "iopub.status.idle": "2023-04-30T09:21:35.414430Z",
     "shell.execute_reply": "2023-04-30T09:21:35.413045Z",
     "shell.execute_reply.started": "2023-04-30T09:21:35.408971Z"
    }
   },
   "outputs": [],
   "source": [
    "cv = CountVectorizer(max_features=5000)"
   ]
  },
  {
   "cell_type": "code",
   "execution_count": 116,
   "metadata": {
    "execution": {
     "iopub.execute_input": "2023-04-30T09:34:45.568465Z",
     "iopub.status.busy": "2023-04-30T09:34:45.568061Z",
     "iopub.status.idle": "2023-04-30T09:34:45.574396Z",
     "shell.execute_reply": "2023-04-30T09:34:45.573190Z",
     "shell.execute_reply.started": "2023-04-30T09:34:45.568429Z"
    }
   },
   "outputs": [],
   "source": [
    "# Create the Bag of Words model\n",
    "X = data['cleaned_text']\n",
    "y = data['sentiment']"
   ]
  },
  {
   "cell_type": "code",
   "execution_count": 117,
   "metadata": {
    "execution": {
     "iopub.execute_input": "2023-04-30T09:34:47.503214Z",
     "iopub.status.busy": "2023-04-30T09:34:47.502480Z",
     "iopub.status.idle": "2023-04-30T09:34:47.512761Z",
     "shell.execute_reply": "2023-04-30T09:34:47.511292Z",
     "shell.execute_reply.started": "2023-04-30T09:34:47.503172Z"
    }
   },
   "outputs": [
    {
     "data": {
      "text/plain": [
       "0    one review mention watch oz episod hook right ...\n",
       "1    wonder littl product film techniqu unassum old...\n",
       "Name: cleaned_text, dtype: object"
      ]
     },
     "execution_count": 117,
     "metadata": {},
     "output_type": "execute_result"
    }
   ],
   "source": [
    "X.head(2)"
   ]
  },
  {
   "cell_type": "code",
   "execution_count": 118,
   "metadata": {
    "execution": {
     "iopub.execute_input": "2023-04-30T09:34:48.330705Z",
     "iopub.status.busy": "2023-04-30T09:34:48.329696Z",
     "iopub.status.idle": "2023-04-30T09:34:48.341092Z",
     "shell.execute_reply": "2023-04-30T09:34:48.339838Z",
     "shell.execute_reply.started": "2023-04-30T09:34:48.330656Z"
    }
   },
   "outputs": [
    {
     "data": {
      "text/plain": [
       "0    positive\n",
       "1    positive\n",
       "2    positive\n",
       "Name: sentiment, dtype: object"
      ]
     },
     "execution_count": 118,
     "metadata": {},
     "output_type": "execute_result"
    }
   ],
   "source": [
    "y.head(3)"
   ]
  },
  {
   "cell_type": "code",
   "execution_count": 119,
   "metadata": {
    "execution": {
     "iopub.execute_input": "2023-04-30T09:34:48.767542Z",
     "iopub.status.busy": "2023-04-30T09:34:48.767151Z",
     "iopub.status.idle": "2023-04-30T09:34:48.776040Z",
     "shell.execute_reply": "2023-04-30T09:34:48.774854Z",
     "shell.execute_reply.started": "2023-04-30T09:34:48.767509Z"
    }
   },
   "outputs": [],
   "source": [
    "from sklearn.preprocessing import LabelEncoder\n",
    "\n",
    "encoder = LabelEncoder()\n",
    "\n",
    "y =encoder.fit_transform(y)"
   ]
  },
  {
   "cell_type": "code",
   "execution_count": 120,
   "metadata": {
    "execution": {
     "iopub.execute_input": "2023-04-30T09:34:49.188322Z",
     "iopub.status.busy": "2023-04-30T09:34:49.187893Z",
     "iopub.status.idle": "2023-04-30T09:34:49.195736Z",
     "shell.execute_reply": "2023-04-30T09:34:49.194503Z",
     "shell.execute_reply.started": "2023-04-30T09:34:49.188286Z"
    }
   },
   "outputs": [
    {
     "data": {
      "text/plain": [
       "array([1, 1, 1, ..., 0, 0, 0])"
      ]
     },
     "execution_count": 120,
     "metadata": {},
     "output_type": "execute_result"
    }
   ],
   "source": [
    "y"
   ]
  },
  {
   "cell_type": "code",
   "execution_count": 121,
   "metadata": {
    "execution": {
     "iopub.execute_input": "2023-04-30T09:34:49.526401Z",
     "iopub.status.busy": "2023-04-30T09:34:49.526007Z",
     "iopub.status.idle": "2023-04-30T09:34:49.535074Z",
     "shell.execute_reply": "2023-04-30T09:34:49.533832Z",
     "shell.execute_reply.started": "2023-04-30T09:34:49.526367Z"
    }
   },
   "outputs": [],
   "source": [
    "from sklearn.model_selection import train_test_split\n",
    "X_train,X_test,y_train,y_test = train_test_split(X,y,test_size=0.2,random_state=1)"
   ]
  },
  {
   "cell_type": "code",
   "execution_count": 122,
   "metadata": {
    "execution": {
     "iopub.execute_input": "2023-04-30T09:34:49.887156Z",
     "iopub.status.busy": "2023-04-30T09:34:49.885934Z",
     "iopub.status.idle": "2023-04-30T09:34:49.895542Z",
     "shell.execute_reply": "2023-04-30T09:34:49.894113Z",
     "shell.execute_reply.started": "2023-04-30T09:34:49.887100Z"
    }
   },
   "outputs": [
    {
     "data": {
      "text/plain": [
       "((39665,), (39665,))"
      ]
     },
     "execution_count": 122,
     "metadata": {},
     "output_type": "execute_result"
    }
   ],
   "source": [
    "X_train.shape,y_train.shape"
   ]
  },
  {
   "cell_type": "code",
   "execution_count": 123,
   "metadata": {
    "execution": {
     "iopub.execute_input": "2023-04-30T09:34:50.210562Z",
     "iopub.status.busy": "2023-04-30T09:34:50.210073Z",
     "iopub.status.idle": "2023-04-30T09:34:50.216695Z",
     "shell.execute_reply": "2023-04-30T09:34:50.215405Z",
     "shell.execute_reply.started": "2023-04-30T09:34:50.210521Z"
    }
   },
   "outputs": [],
   "source": [
    "# Applying Bow"
   ]
  },
  {
   "cell_type": "code",
   "execution_count": 124,
   "metadata": {
    "execution": {
     "iopub.execute_input": "2023-04-30T09:34:50.587377Z",
     "iopub.status.busy": "2023-04-30T09:34:50.586977Z",
     "iopub.status.idle": "2023-04-30T09:34:50.593405Z",
     "shell.execute_reply": "2023-04-30T09:34:50.592029Z",
     "shell.execute_reply.started": "2023-04-30T09:34:50.587344Z"
    }
   },
   "outputs": [],
   "source": [
    "from sklearn.feature_extraction.text import CountVectorizer"
   ]
  },
  {
   "cell_type": "code",
   "execution_count": 125,
   "metadata": {
    "execution": {
     "iopub.execute_input": "2023-04-30T09:48:23.587999Z",
     "iopub.status.busy": "2023-04-30T09:48:23.587575Z",
     "iopub.status.idle": "2023-04-30T09:48:23.593498Z",
     "shell.execute_reply": "2023-04-30T09:48:23.592391Z",
     "shell.execute_reply.started": "2023-04-30T09:48:23.587956Z"
    }
   },
   "outputs": [],
   "source": [
    "cv = CountVectorizer(max_features=3000)"
   ]
  },
  {
   "cell_type": "code",
   "execution_count": 126,
   "metadata": {
    "execution": {
     "iopub.execute_input": "2023-04-30T09:48:24.687299Z",
     "iopub.status.busy": "2023-04-30T09:48:24.686177Z",
     "iopub.status.idle": "2023-04-30T09:48:25.901439Z",
     "shell.execute_reply": "2023-04-30T09:48:25.899985Z",
     "shell.execute_reply.started": "2023-04-30T09:48:24.687256Z"
    }
   },
   "outputs": [],
   "source": [
    "X_train_bow = cv.fit_transform(X_train).toarray()\n",
    "X_test_bow = cv.transform(X_test).toarray()"
   ]
  },
  {
   "cell_type": "code",
   "execution_count": 127,
   "metadata": {
    "execution": {
     "iopub.execute_input": "2023-04-30T09:48:25.904247Z",
     "iopub.status.busy": "2023-04-30T09:48:25.903754Z",
     "iopub.status.idle": "2023-04-30T09:48:25.911314Z",
     "shell.execute_reply": "2023-04-30T09:48:25.910135Z",
     "shell.execute_reply.started": "2023-04-30T09:48:25.904198Z"
    }
   },
   "outputs": [
    {
     "data": {
      "text/plain": [
       "(39665, 3000)"
      ]
     },
     "execution_count": 127,
     "metadata": {},
     "output_type": "execute_result"
    }
   ],
   "source": [
    "X_train_bow.shape"
   ]
  },
  {
   "cell_type": "code",
   "execution_count": 128,
   "metadata": {
    "execution": {
     "iopub.execute_input": "2023-04-30T09:48:25.914425Z",
     "iopub.status.busy": "2023-04-30T09:48:25.913512Z",
     "iopub.status.idle": "2023-04-30T09:48:26.315259Z",
     "shell.execute_reply": "2023-04-30T09:48:26.313941Z",
     "shell.execute_reply.started": "2023-04-30T09:48:25.914379Z"
    }
   },
   "outputs": [
    {
     "data": {
      "text/plain": [
       "GaussianNB(priors=None, var_smoothing=1e-09)"
      ]
     },
     "execution_count": 128,
     "metadata": {},
     "output_type": "execute_result"
    }
   ],
   "source": [
    "# Train the GaussianNB on BOW \n",
    "from sklearn.naive_bayes import GaussianNB\n",
    "gnb = GaussianNB()\n",
    "\n",
    "gnb.fit(X_train_bow,y_train)"
   ]
  },
  {
   "cell_type": "code",
   "execution_count": 129,
   "metadata": {
    "execution": {
     "iopub.execute_input": "2023-04-30T09:48:26.366730Z",
     "iopub.status.busy": "2023-04-30T09:48:26.365954Z",
     "iopub.status.idle": "2023-04-30T09:48:26.468244Z",
     "shell.execute_reply": "2023-04-30T09:48:26.467342Z",
     "shell.execute_reply.started": "2023-04-30T09:48:26.366684Z"
    }
   },
   "outputs": [],
   "source": [
    "y_pred = gnb.predict(X_test_bow)"
   ]
  },
  {
   "cell_type": "code",
   "execution_count": 130,
   "metadata": {
    "execution": {
     "iopub.execute_input": "2023-04-30T09:48:26.848406Z",
     "iopub.status.busy": "2023-04-30T09:48:26.847986Z",
     "iopub.status.idle": "2023-04-30T09:48:26.856268Z",
     "shell.execute_reply": "2023-04-30T09:48:26.855007Z",
     "shell.execute_reply.started": "2023-04-30T09:48:26.848366Z"
    }
   },
   "outputs": [
    {
     "data": {
      "text/plain": [
       "0.7423616012907129"
      ]
     },
     "execution_count": 130,
     "metadata": {},
     "output_type": "execute_result"
    }
   ],
   "source": [
    "from sklearn.metrics import accuracy_score,confusion_matrix\n",
    "accuracy_score(y_test,y_pred)"
   ]
  },
  {
   "cell_type": "code",
   "execution_count": 131,
   "metadata": {
    "execution": {
     "iopub.execute_input": "2023-04-30T09:48:27.268224Z",
     "iopub.status.busy": "2023-04-30T09:48:27.267718Z",
     "iopub.status.idle": "2023-04-30T09:48:27.277064Z",
     "shell.execute_reply": "2023-04-30T09:48:27.275754Z",
     "shell.execute_reply.started": "2023-04-30T09:48:27.268155Z"
    }
   },
   "outputs": [
    {
     "data": {
      "text/plain": [
       "array([[4324,  709],\n",
       "       [1846, 3038]], dtype=int64)"
      ]
     },
     "execution_count": 131,
     "metadata": {},
     "output_type": "execute_result"
    }
   ],
   "source": [
    "confusion_matrix(y_test,y_pred)"
   ]
  },
  {
   "cell_type": "code",
   "execution_count": null,
   "metadata": {},
   "outputs": [],
   "source": [
    "Accuracy using GaussianNB is 74%"
   ]
  },
  {
   "cell_type": "code",
   "execution_count": 132,
   "metadata": {
    "execution": {
     "iopub.execute_input": "2023-04-30T09:48:27.846868Z",
     "iopub.status.busy": "2023-04-30T09:48:27.846484Z",
     "iopub.status.idle": "2023-04-30T09:48:36.524537Z",
     "shell.execute_reply": "2023-04-30T09:48:36.523265Z",
     "shell.execute_reply.started": "2023-04-30T09:48:27.846835Z"
    }
   },
   "outputs": [
    {
     "data": {
      "text/plain": [
       "0.8401734395482505"
      ]
     },
     "execution_count": 132,
     "metadata": {},
     "output_type": "execute_result"
    }
   ],
   "source": [
    "# Train the GaussiRandomForest Classifier on BOW \n",
    "\n",
    "from sklearn.ensemble import RandomForestClassifier\n",
    "rf = RandomForestClassifier()\n",
    "\n",
    "rf.fit(X_train_bow,y_train)\n",
    "y_pred = rf.predict(X_test_bow)\n",
    "accuracy_score(y_test,y_pred)"
   ]
  },
  {
   "cell_type": "markdown",
   "metadata": {},
   "source": [
    "Accuracy using RandomForestClassifier is 84%"
   ]
  },
  {
   "cell_type": "code",
   "execution_count": null,
   "metadata": {},
   "outputs": [],
   "source": []
  },
  {
   "cell_type": "markdown",
   "metadata": {},
   "source": [
    "#### Compare the Model accuracy\n",
    "\n",
    "We can observe & concluse that RandomForestClassifier is giving better accuracy than GaussianNB."
   ]
  },
  {
   "cell_type": "code",
   "execution_count": null,
   "metadata": {},
   "outputs": [],
   "source": []
  }
 ],
 "metadata": {
  "kernelspec": {
   "display_name": "Python 3",
   "language": "python",
   "name": "python3"
  },
  "language_info": {
   "codemirror_mode": {
    "name": "ipython",
    "version": 3
   },
   "file_extension": ".py",
   "mimetype": "text/x-python",
   "name": "python",
   "nbconvert_exporter": "python",
   "pygments_lexer": "ipython3",
   "version": "3.7.6"
  }
 },
 "nbformat": 4,
 "nbformat_minor": 4
}
